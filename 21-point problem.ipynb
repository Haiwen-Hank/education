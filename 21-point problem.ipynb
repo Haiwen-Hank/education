{
 "cells": [
  {
   "cell_type": "code",
   "execution_count": 1,
   "metadata": {},
   "outputs": [],
   "source": [
    "import random\n",
    "import datetime as dt\n",
    "import itertools"
   ]
  },
  {
   "cell_type": "code",
   "execution_count": 2,
   "metadata": {},
   "outputs": [],
   "source": [
    "solution_map = {}\n",
    "solution_set = {''}"
   ]
  },
  {
   "cell_type": "code",
   "execution_count": 3,
   "metadata": {},
   "outputs": [],
   "source": [
    "def __solve(nums, expct_sum = 21):\n",
    "    if len(nums) != 4:\n",
    "        return []\n",
    "    s = ['+','-','*','/']\n",
    "    sign_high = ['*','/']\n",
    "    sign_low = ['+','-']\n",
    "    sign_swap = ['+','*']\n",
    "    global solution_map\n",
    "    global solution_set\n",
    "    a,b,c,d = tuple(nums)\n",
    "    h,i,j,k = sorted(nums)\n",
    "    set_key = '_'.join([str(expct_sum),str(a),str(b),str(c),str(d)])\n",
    "    map_key = '_'.join([str(expct_sum),str(h),str(i),str(j),str(k)])\n",
    "    if set_key in solution_set:\n",
    "        if map_key in solution_map:\n",
    "            return solution_map[map_key]\n",
    "        else:\n",
    "            return []\n",
    "    \n",
    "    result = []\n",
    "    solution_set.add(set_key)\n",
    "    for s1 in s:\n",
    "        for s2 in s:\n",
    "            for s3 in s:\n",
    "                key0 = ''.join([str(a),s1,str(b),s2,str(c),s3,str(d)])\n",
    "                key1 = ''.join(['(',str(a),s1,str(b),')',s2,str(c),s3,str(d)])\n",
    "                key2 = ''.join([str(a),s1,'(',str(b),s2,str(c),')',s3,str(d)])\n",
    "                key3 = ''.join([str(a),s1,str(b),s2,'(',str(c),s3,str(d),')'])\n",
    "                key4 = ''.join(['(',str(a),s1,str(b),')',s2,'(',str(c),s3,str(d),')'])\n",
    "\n",
    "                try:\n",
    "                    if eval(key0) == expct_sum:\n",
    "                        result.append(key0)\n",
    "                except:\n",
    "                    pass\n",
    "                \n",
    "                if s1==s2==s3 and s1 in sign_swap:\n",
    "                    # key0 can represent all keys\n",
    "                    next\n",
    "                if s1 in sign_low and s2 in sign_high:\n",
    "                    #\n",
    "                    try:\n",
    "                        if eval(key1) == expct_sum:\n",
    "                            result.append(key1)\n",
    "                    except:\n",
    "                        pass\n",
    "\n",
    "                if s1 in sign_high and s2 in sign_low:\n",
    "                    #\n",
    "                    try:\n",
    "                        if eval(key2) == expct_sum:\n",
    "                            result.append(key2)\n",
    "                    except:\n",
    "                        pass\n",
    "                \n",
    "                if s2 in sign_high and s3 in sign_low:\n",
    "                    #\n",
    "                    try:\n",
    "                        if eval(key3) == expct_sum:\n",
    "                            result.append(key3)\n",
    "                    except:\n",
    "                        pass\n",
    "                \n",
    "                if s2 in sign_high and s3 in sign_low and s1 in sign_low:\n",
    "                    #\n",
    "                    try:\n",
    "                        if eval(key4) == expct_sum:\n",
    "                            result.append(key4)\n",
    "                    except:\n",
    "                        pass\n",
    "\n",
    "\n",
    "    if result is not None and len(result)>0:\n",
    "        if map_key in solution_map:\n",
    "            solution_map[map_key].extend(result)\n",
    "        else:\n",
    "            solution_map[map_key] = result\n",
    "    return result"
   ]
  },
  {
   "cell_type": "code",
   "execution_count": 4,
   "metadata": {},
   "outputs": [],
   "source": [
    "def find(a,b,c,d, expct_sum=21, console=True):\n",
    "    global solution_map\n",
    "    global solution_set\n",
    "    h,i,j,k = sorted([a,b,c,d])\n",
    "    set_key = '_'.join([str(expct_sum),str(a),str(b),str(c),str(d)])\n",
    "    map_key = '_'.join([str(expct_sum),str(h),str(i),str(j),str(k)])\n",
    "    if set_key not in solution_set:\n",
    "        permution = list(itertools.permutations([a,b,c,d]))\n",
    "        for nums in permution:\n",
    "            __solve(nums, expct_sum)\n",
    "    if console:\n",
    "        if map_key in solution_map:\n",
    "            for solution in solution_map[map_key]:\n",
    "                print(solution)\n",
    "        else:\n",
    "            print('no solution')"
   ]
  },
  {
   "cell_type": "code",
   "execution_count": 5,
   "metadata": {},
   "outputs": [],
   "source": [
    "def cache(start, end):\n",
    "    start_time = dt.datetime.now()\n",
    "    for a in range(start,end):\n",
    "        for b in range(start,end):\n",
    "            for c in range(start,end):\n",
    "                for d in range(start,end):\n",
    "                    find(a,b,c,d, console=False)\n",
    "    finish_time = dt.datetime.now()\n",
    "    delta_time = finish_time - start_time\n",
    "    print('Total seconds used: ', delta_time.seconds)"
   ]
  },
  {
   "cell_type": "code",
   "execution_count": 6,
   "metadata": {},
   "outputs": [
    {
     "name": "stdout",
     "output_type": "stream",
     "text": [
      "Total seconds used:  18\n",
      "10001\n",
      "460\n"
     ]
    }
   ],
   "source": [
    "cache(1,11)\n",
    "print(len(solution_set))\n",
    "print(len(solution_map))\n"
   ]
  },
  {
   "cell_type": "code",
   "execution_count": 7,
   "metadata": {},
   "outputs": [
    {
     "name": "stdout",
     "output_type": "stream",
     "text": [
      "no solution\n"
     ]
    }
   ],
   "source": [
    "find(7,8,9,10)"
   ]
  },
  {
   "cell_type": "code",
   "execution_count": 8,
   "metadata": {},
   "outputs": [
    {
     "name": "stdout",
     "output_type": "stream",
     "text": [
      "(1+3)*4+5\n",
      "(1+5)*4-3\n",
      "(3+1)*4+5\n",
      "4*(1+3)+5\n",
      "4*(1+5)-3\n",
      "4*(3+1)+5\n",
      "4*(5+1)-3\n",
      "(5+1)*4-3\n",
      "5+4*(1+3)\n",
      "5+4*(3+1)\n"
     ]
    }
   ],
   "source": [
    "find(1,3,4,5)"
   ]
  },
  {
   "cell_type": "code",
   "execution_count": 9,
   "metadata": {},
   "outputs": [
    {
     "name": "stdout",
     "output_type": "stream",
     "text": [
      "(3+3)*3+3\n",
      "3+3*(3+3)\n",
      "3*(3+3)+3\n"
     ]
    }
   ],
   "source": [
    "find(3,3,3,3)\n"
   ]
  },
  {
   "cell_type": "code",
   "execution_count": 10,
   "metadata": {},
   "outputs": [
    {
     "name": "stdout",
     "output_type": "stream",
     "text": [
      "(3+3)*3+4\n",
      "3*(3+3)+4\n",
      "4+3*(3+3)\n"
     ]
    }
   ],
   "source": [
    "find(3,3,3,4,22)"
   ]
  },
  {
   "cell_type": "code",
   "execution_count": 11,
   "metadata": {},
   "outputs": [
    {
     "name": "stdout",
     "output_type": "stream",
     "text": [
      "3*3*3-3\n"
     ]
    }
   ],
   "source": [
    "find(3,3,3,3,24)"
   ]
  },
  {
   "cell_type": "code",
   "execution_count": 12,
   "metadata": {},
   "outputs": [
    {
     "name": "stdout",
     "output_type": "stream",
     "text": [
      "Total seconds used:  26\n"
     ]
    }
   ],
   "source": [
    "cache(1,13)"
   ]
  },
  {
   "cell_type": "code",
   "execution_count": 13,
   "metadata": {},
   "outputs": [
    {
     "name": "stdout",
     "output_type": "stream",
     "text": [
      "20742\n",
      "896\n"
     ]
    }
   ],
   "source": [
    "print(len(solution_set))\n",
    "print(len(solution_map))"
   ]
  },
  {
   "cell_type": "code",
   "execution_count": 14,
   "metadata": {},
   "outputs": [
    {
     "name": "stdout",
     "output_type": "stream",
     "text": [
      "1-2*(3-13)\n",
      "1+2*(13-3)\n",
      "(1+3)*2+13\n",
      "(1+13)/2*3\n",
      "(1+13)*3/2\n",
      "2*(1+3)+13\n",
      "2*(3+1)+13\n",
      "2*(13-1)-3\n",
      "2*(13-3)+1\n",
      "(3+1)*2+13\n",
      "3*(1+13)/2\n",
      "3/2*(1+13)\n",
      "3/2*(13+1)\n",
      "3*(13+1)/2\n",
      "(13+1)/2*3\n",
      "(13-1)*2-3\n",
      "(13+1)*3/2\n",
      "13+2*(1+3)\n",
      "13+2*(3+1)\n",
      "(13-3)*2+1\n"
     ]
    }
   ],
   "source": [
    "find(1,2,3,13)"
   ]
  },
  {
   "cell_type": "code",
   "execution_count": 15,
   "metadata": {},
   "outputs": [
    {
     "name": "stdout",
     "output_type": "stream",
     "text": [
      "(1+3)*4+5\n",
      "(1+5)*4-3\n",
      "(3+1)*4+5\n",
      "4*(1+3)+5\n",
      "4*(1+5)-3\n",
      "4*(3+1)+5\n",
      "4*(5+1)-3\n",
      "(5+1)*4-3\n",
      "5+4*(1+3)\n",
      "5+4*(3+1)\n"
     ]
    }
   ],
   "source": [
    "find(5,4,3,1)"
   ]
  },
  {
   "cell_type": "code",
   "execution_count": null,
   "metadata": {},
   "outputs": [],
   "source": []
  }
 ],
 "metadata": {
  "kernelspec": {
   "display_name": "Python 3",
   "language": "python",
   "name": "python3"
  },
  "language_info": {
   "codemirror_mode": {
    "name": "ipython",
    "version": 3
   },
   "file_extension": ".py",
   "mimetype": "text/x-python",
   "name": "python",
   "nbconvert_exporter": "python",
   "pygments_lexer": "ipython3",
   "version": "3.7.6"
  }
 },
 "nbformat": 4,
 "nbformat_minor": 2
}
